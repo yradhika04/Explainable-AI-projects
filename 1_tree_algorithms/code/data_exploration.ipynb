{
  "nbformat": 4,
  "nbformat_minor": 0,
  "metadata": {
    "colab": {
      "provenance": [],
      "toc_visible": true
    },
    "kernelspec": {
      "name": "python3",
      "display_name": "Python 3"
    },
    "language_info": {
      "name": "python"
    }
  },
  "cells": [
    {
      "cell_type": "markdown",
      "source": [
        "# Notebook for data exploration and dividing the original dataset into training and test datasets."
      ],
      "metadata": {
        "id": "A9GjtjezdTqa"
      }
    },
    {
      "cell_type": "code",
      "execution_count": null,
      "metadata": {
        "id": "Ta6GsF7Uai7Y"
      },
      "outputs": [],
      "source": [
        "import pandas as pd\n",
        "import numpy as np\n",
        "import sklearn\n",
        "from sklearn.model_selection import train_test_split"
      ]
    },
    {
      "cell_type": "code",
      "source": [
        "data = pd.read_csv(\"./Data/star_classification.csv\")\n",
        "data"
      ],
      "metadata": {
        "id": "AoTVfld-a9N2"
      },
      "execution_count": null,
      "outputs": []
    },
    {
      "cell_type": "code",
      "source": [
        "# to see the different values in this column, because in the above display, all\n",
        "# samples have the same value for this column/feature\n",
        "data['rerun_ID'].value_counts()"
      ],
      "metadata": {
        "id": "93A9bRr9bJgm"
      },
      "execution_count": null,
      "outputs": []
    },
    {
      "cell_type": "code",
      "source": [
        "# information about the columns of the dataframe like shape, data type, etc.\n",
        "data.info()"
      ],
      "metadata": {
        "id": "fbRwWxk1a_wZ"
      },
      "execution_count": null,
      "outputs": []
    },
    {
      "cell_type": "code",
      "source": [
        "# statistical information about the data\n",
        "data.describe()"
      ],
      "metadata": {
        "id": "wtO-hX0kbAN0"
      },
      "execution_count": null,
      "outputs": []
    },
    {
      "cell_type": "code",
      "source": [
        "# to see if there are any NaN values\n",
        "data.isna().any()"
      ],
      "metadata": {
        "id": "Wi4Am2MYbCnK"
      },
      "execution_count": null,
      "outputs": []
    },
    {
      "cell_type": "code",
      "source": [
        "data.drop('obj_ID', axis=1, inplace=True)  # object ID number is not important for analysis, it's a different identification value for each sample\n",
        "data.drop('rerun_ID', axis=1, inplace=True)  # this column has the same value for all rows\n",
        "data"
      ],
      "metadata": {
        "id": "mN4OK0YNbETi"
      },
      "execution_count": null,
      "outputs": []
    },
    {
      "cell_type": "code",
      "source": [
        "# changing class labels to numerical categories\n",
        "map_to_num = {'GALAXY': 0, 'QSO': 1, 'STAR': 2}\n",
        "data['class'] = data['class'].map(map_to_num)\n",
        "data"
      ],
      "metadata": {
        "id": "svVVupVLbe5D"
      },
      "execution_count": null,
      "outputs": []
    },
    {
      "cell_type": "code",
      "source": [
        "# divide the labels and features\n",
        "label_names = data['class'].unique()\n",
        "feature_columns = data.loc[:, data.columns != 'class']\n",
        "feature_names = feature_columns.columns\n",
        "print(\"label_names: \", label_names)\n",
        "print(\"feature_names: \", feature_names)"
      ],
      "metadata": {
        "id": "B3KzAaEBbhCU"
      },
      "execution_count": null,
      "outputs": []
    },
    {
      "cell_type": "code",
      "source": [
        "#Splitting dataset into features (Feature vector - X) and target variables (Labels- Y)\n",
        "# Feature Vector - X\n",
        "X = data[feature_names]\n",
        "\n",
        "# Target Variables- Y\n",
        "y = data['class']"
      ],
      "metadata": {
        "id": "liMdbnk2bjZQ"
      },
      "execution_count": null,
      "outputs": []
    },
    {
      "cell_type": "code",
      "source": [
        "X"
      ],
      "metadata": {
        "id": "gRsv-CKPbk92"
      },
      "execution_count": null,
      "outputs": []
    },
    {
      "cell_type": "code",
      "source": [
        "y"
      ],
      "metadata": {
        "id": "1fo7AQWTbmjz"
      },
      "execution_count": null,
      "outputs": []
    },
    {
      "cell_type": "code",
      "source": [
        "# Splitting dataset\n",
        "# Training - 70%\n",
        "# Test - 30%\n",
        "X_train, X_test, y_train, y_test = train_test_split(X, y, test_size=0.3, random_state=1)\n",
        "\n",
        "print(\"X_train: \", X_train.shape)\n",
        "X_train.to_csv(\"./Data/X_train.csv\", index=False)\n",
        "print(\"X_test: \", X_test.shape)\n",
        "X_test.to_csv(\"./Data/X_test.csv\", index=False)\n",
        "\n",
        "print(\"y_train: \", y_train.shape)\n",
        "y_train.to_csv(\"./Data/y_train.csv\", index=False)\n",
        "print(\"y_test: \", y_test.shape)\n",
        "y_test.to_csv(\"./Data/y_test.csv\", index=False)"
      ],
      "metadata": {
        "id": "sSfsTFM9bqqM"
      },
      "execution_count": null,
      "outputs": []
    }
  ]
}